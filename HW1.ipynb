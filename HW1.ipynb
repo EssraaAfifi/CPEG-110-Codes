{
 "cells": [
  {
   "cell_type": "markdown",
   "metadata": {},
   "source": [
    "#Part 2"
   ]
  },
  {
   "cell_type": "code",
   "execution_count": 1,
   "metadata": {},
   "outputs": [
    {
     "name": "stdout",
     "output_type": "stream",
     "text": [
      "The Are of the triangle is: 4.8\n"
     ]
    }
   ],
   "source": [
    "#Question 1\n",
    "Base = 4\n",
    "Height = 2.4\n",
    "Area = (Base*Height)/2\n",
    "\n",
    "print (\"The Are of the triangle is:\", Area)"
   ]
  },
  {
   "cell_type": "code",
   "execution_count": 2,
   "metadata": {},
   "outputs": [
    {
     "name": "stdout",
     "output_type": "stream",
     "text": [
      "The quadratic roots: (-1+0j) , (-1+0j)\n"
     ]
    }
   ],
   "source": [
    "#Question 2\n",
    "from cmath import sqrt\n",
    "\n",
    "\n",
    "a = 1\n",
    "b = 2\n",
    "c = 1\n",
    "\n",
    "#x1 = ((-1*b)+(sqrt(((b)**2)-(4*a*c))))/(2*a)\n",
    "#x2 = ((-1*b)-(sqrt(((b)**2)-(4*a*c))))/(2*a)\n",
    "\n",
    "step1 = (-b)\n",
    "step2 = (b**2)-(4*a*c)\n",
    "x1 = (step1 + sqrt(step2))/2*a\n",
    "x2 = (step1 - sqrt(step2))/2*a\n",
    "\n",
    "print (\"The quadratic roots:\", x1, \",\", x2)"
   ]
  },
  {
   "cell_type": "code",
   "execution_count": 3,
   "metadata": {},
   "outputs": [
    {
     "name": "stdout",
     "output_type": "stream",
     "text": [
      "i. Qatar World Cup\n",
      "ii. QATAR WORLD CUP\n",
      "iii. QATAR WORLD CUP 2022\n"
     ]
    }
   ],
   "source": [
    "#Question 3\n",
    "\n",
    "string = (\"FIFA World Cup\")\n",
    "\n",
    "Output1 = string.replace(\"FIFA\",\"Qatar\")\n",
    "Output2 = Output1.upper()\n",
    "Output3 = (Output2 + \" 2022\")\n",
    "\n",
    "\n",
    "print (\"i.\",Output1)\n",
    "print (\"ii.\",Output2)\n",
    "print (\"iii.\",Output3)"
   ]
  },
  {
   "cell_type": "code",
   "execution_count": 4,
   "metadata": {},
   "outputs": [
    {
     "name": "stdout",
     "output_type": "stream",
     "text": [
      "i. True\n",
      "ii. True\n",
      "iii. False\n",
      "iv. True\n",
      "v. False\n",
      "vi. True\n"
     ]
    }
   ],
   "source": [
    "#Question 4\n",
    "#Part 1\n",
    "\n",
    "a = 20\n",
    "b = 50\n",
    "\n",
    "print (\"i.\", bool((a+b) and (a-b)))\n",
    "print (\"ii.\", bool((a+b) or (a-b)))\n",
    "print (\"iii.\", bool(a>b and a<b))\n",
    "print (\"iv.\", bool(a>b or a<b))\n",
    "print (\"v.\", bool(a>=b and a<=b))\n",
    "print (\"vi.\", bool(a>=b or a<=b))"
   ]
  },
  {
   "cell_type": "code",
   "execution_count": 5,
   "metadata": {},
   "outputs": [
    {
     "name": "stdout",
     "output_type": "stream",
     "text": [
      "The length of the hypotenuse (c) is = (5+0j)\n"
     ]
    }
   ],
   "source": [
    "#Question 4\n",
    "#Part 2\n",
    "from cmath import sqrt\n",
    "\n",
    "a = 3\n",
    "b = 4\n",
    "\n",
    "c = sqrt((a**2)+(b**2))\n",
    "\n",
    "print (\"The length of the hypotenuse (c) is =\", c)"
   ]
  }
 ],
 "metadata": {
  "kernelspec": {
   "display_name": "Python 3.10.6 64-bit",
   "language": "python",
   "name": "python3"
  },
  "language_info": {
   "codemirror_mode": {
    "name": "ipython",
    "version": 3
   },
   "file_extension": ".py",
   "mimetype": "text/x-python",
   "name": "python",
   "nbconvert_exporter": "python",
   "pygments_lexer": "ipython3",
   "version": "3.10.6"
  },
  "orig_nbformat": 4,
  "vscode": {
   "interpreter": {
    "hash": "2c4b009172e437642c88f2ab20b84a225b7b9db36534f1c2ae60603f05473698"
   }
  }
 },
 "nbformat": 4,
 "nbformat_minor": 2
}
