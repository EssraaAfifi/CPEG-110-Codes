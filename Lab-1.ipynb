{
 "cells": [
  {
   "cell_type": "code",
   "execution_count": 38,
   "metadata": {},
   "outputs": [
    {
     "name": "stdout",
     "output_type": "stream",
     "text": [
      "<__main__.Products object at 0x000001B462B35C30>\n",
      "Product Laptop abc is not found\n",
      "<__main__.Products object at 0x000001B462B35C30>\n"
     ]
    }
   ],
   "source": [
    "# Q1\n",
    "\"\"\"\n",
    "Date: 03/11/2022\n",
    "Took [] runs to finish program\n",
    "\n",
    "Current Issue: Nothing is being added to the dictionary, however if I remove prod_inv, it works.\n",
    "\"\"\"\n",
    "\n",
    "# Creating the class\n",
    "class Products:\n",
    " \n",
    "    # __init__ function\n",
    "    def __init__(self):\n",
    "        self.prod_inv = dict ()\n",
    " \n",
    "    # Function to add prod:amount\n",
    "    def add_prod(self, prod, amount):\n",
    "        if prod in self.prod_inv:\n",
    "            self.prod_inv[prod] += amount\n",
    "        else:\n",
    "            self.prod_inv[prod] = amount\n",
    "\n",
    "    #Function to remove prod:amount\n",
    "    def sub_prod(self, prod, amount):\n",
    "        if prod in self.prod_inv:\n",
    "            self.prod_inv[prod] -= amount\n",
    "        else:\n",
    "            print (\"Product {} is not found\".format(prod))\n",
    "\n",
    "\n",
    "# Main Function\n",
    "\n",
    "# Creating a variable\n",
    "dict_prods = Products()\n",
    "\n",
    "#Adding products\n",
    "dict_prods.add_prod(\"Phone xyz\", 25)\n",
    "dict_prods.add_prod(\"Water zyx\", 235)\n",
    "print(dict_prods)\n",
    "\n",
    "#Subtracting products\n",
    "dict_prods.sub_prod(\"Water zyx\", 10)\n",
    "dict_prods.sub_prod(\"Laptop abc\", 5)\n",
    "print(dict_prods)"
   ]
  },
  {
   "cell_type": "code",
   "execution_count": null,
   "metadata": {},
   "outputs": [],
   "source": [
    "# Q2\n",
    "\"\"\"\n",
    "Date: 03/11/2022\n",
    "Took [] runs to finish program\n",
    "\n",
    "Current Issue:\n",
    "\"\"\""
   ]
  },
  {
   "cell_type": "code",
   "execution_count": null,
   "metadata": {},
   "outputs": [],
   "source": [
    "# Q3\n",
    "\"\"\"\n",
    "Date: 03/11/2022\n",
    "Took [] runs to finish program\n",
    "\n",
    "Current Issue:\n",
    "\"\"\"\n",
    "\n",
    "# Creating teh function\n",
    "def count_multiples (list_int, int_num):\n",
    "    pass\n",
    "\n",
    "# Main function\n",
    "\n",
    "# Creating the list\n",
    "list_of_numbers = [1,2,3,5,7,19,21,35,64,78]\n",
    "\n",
    "# Runing the function\n",
    "count_multiples(list_of_numbers,3)"
   ]
  }
 ],
 "metadata": {
  "kernelspec": {
   "display_name": "Python 3.10.6 64-bit",
   "language": "python",
   "name": "python3"
  },
  "language_info": {
   "codemirror_mode": {
    "name": "ipython",
    "version": 3
   },
   "file_extension": ".py",
   "mimetype": "text/x-python",
   "name": "python",
   "nbconvert_exporter": "python",
   "pygments_lexer": "ipython3",
   "version": "3.10.6"
  },
  "orig_nbformat": 4,
  "vscode": {
   "interpreter": {
    "hash": "2c4b009172e437642c88f2ab20b84a225b7b9db36534f1c2ae60603f05473698"
   }
  }
 },
 "nbformat": 4,
 "nbformat_minor": 2
}
