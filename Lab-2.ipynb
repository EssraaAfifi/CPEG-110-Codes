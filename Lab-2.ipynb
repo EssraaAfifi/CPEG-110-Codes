{
 "cells": [
  {
   "cell_type": "code",
   "execution_count": 7,
   "metadata": {},
   "outputs": [
    {
     "name": "stdout",
     "output_type": "stream",
     "text": [
      "1. Identical items: {40, 50, 30}\n",
      "2. Unique Items: {70, 40, 10, 50, 20, 60, 30}\n",
      "3. Updated set1: {20, 10}\n",
      "4. In either but not both: {10, 20, 70, 60}\n",
      "4. (Updated Set) In either but not both: {70, 40, 10, 50, 20, 60, 30}\n",
      "5. Common elements: {40, 50, 30}\n",
      "5. (Updated Set) No common elements\n"
     ]
    }
   ],
   "source": [
    "# Question 1\n",
    "\n",
    "\"\"\"\n",
    "Date: 08/11/2022\n",
    "Took 8 runs to finish program\n",
    "\"\"\"\n",
    "\n",
    "# Preparation-\n",
    "set1 = {10, 20, 30, 40, 50}\n",
    "set2 = {30, 40, 50, 60, 70}\n",
    "identical = set()\n",
    "unique = set()\n",
    "updated_set1 = {10, 20, 30, 40, 50} # had to create a seperte set\n",
    "either = set()\n",
    "either_update = set()\n",
    "common = set()\n",
    "common_update = set()\n",
    "\n",
    "# Main-\n",
    "\n",
    "# 1. Identical Items-\n",
    "for checking in set1:\n",
    "    if checking in set2:\n",
    "        identical.add(checking)\n",
    "print (\"1. Identical items:\", identical)\n",
    "\n",
    "# 2. Unique Items\n",
    "for item in set1:\n",
    "    unique.add(item)\n",
    "for item in set2:\n",
    "    unique.add(item)\n",
    "print (\"2. Unique Items:\",unique)\n",
    "\n",
    "# 3. Updating 'set1'\n",
    "for checking in set1:\n",
    "    if checking in set2:\n",
    "        updated_set1.remove(checking)\n",
    "print (\"3. Updated set1:\",updated_set1)\n",
    "\n",
    "# 4. Either - Original Set\n",
    "for checking in set1:\n",
    "    if checking not in set2:\n",
    "        either.add(checking)\n",
    "for checking in set2:\n",
    "    if checking not in set1:\n",
    "        either.add(checking)\n",
    "print (\"4. In either but not both:\",either)\n",
    "\n",
    "# 4. Either - Updated Set\n",
    "for checking in updated_set1:\n",
    "    if checking not in set2:\n",
    "        either_update.add(checking)\n",
    "for checking in set2:\n",
    "    if checking not in updated_set1:\n",
    "        either.add(checking)\n",
    "print (\"4. (Updated Set) In either but not both:\",either)\n",
    "\n",
    "# 5. Common elements - Original Set\n",
    "for checking in set1:\n",
    "    if checking in set2:\n",
    "        common.add(checking)\n",
    "if common:\n",
    "    print(\"5. Common elements:\",common)\n",
    "else:\n",
    "    print(\"5. No common elements\")\n",
    "\n",
    "# 5. Common elements - Updated Set\n",
    "for checking in updated_set1: \n",
    "    if checking in set2:\n",
    "        common_update.add(checking)\n",
    "    else:\n",
    "        print (\"5. (Updated Set) No common elements\")\n",
    "        break\n",
    "if common_update:\n",
    "    print(\"5. (Updated Set) Common elements:\",common_update)"
   ]
  },
  {
   "cell_type": "code",
   "execution_count": 2,
   "metadata": {},
   "outputs": [
    {
     "name": "stdout",
     "output_type": "stream",
     "text": [
      "y = 22\n",
      "y = 11\n",
      "y = 34\n",
      "y = 17\n",
      "y = 52\n",
      "y = 26\n",
      "y = 13\n",
      "y = 40\n",
      "y = 20\n",
      "y = 10\n",
      "y = 5\n",
      "y = 16\n",
      "y = 8\n",
      "y = 4\n",
      "y = 2\n",
      "y = 1\n"
     ]
    }
   ],
   "source": [
    "# Question 2\n",
    "\n",
    "\"\"\"\n",
    "Date: 08/11/2022\n",
    "Took 2 runs to finish program\n",
    "\"\"\"\n",
    "x = 7\n",
    "y = 3*x + 1\n",
    "print (\"y =\",y)\n",
    "\n",
    "while y != 1:\n",
    "    x = int(y)\n",
    "    if y%2==0:\n",
    "        y /= 2\n",
    "    else:\n",
    "        y = 3*x + 1\n",
    "    print (\"y =\",int(y))"
   ]
  }
 ],
 "metadata": {
  "kernelspec": {
   "display_name": "Python 3 (ipykernel)",
   "language": "python",
   "name": "python3"
  },
  "language_info": {
   "codemirror_mode": {
    "name": "ipython",
    "version": 3
   },
   "file_extension": ".py",
   "mimetype": "text/x-python",
   "name": "python",
   "nbconvert_exporter": "python",
   "pygments_lexer": "ipython3",
   "version": "3.9.12"
  },
  "vscode": {
   "interpreter": {
    "hash": "2c4b009172e437642c88f2ab20b84a225b7b9db36534f1c2ae60603f05473698"
   }
  }
 },
 "nbformat": 4,
 "nbformat_minor": 2
}
