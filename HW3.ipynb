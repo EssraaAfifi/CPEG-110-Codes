{
 "cells": [
  {
   "cell_type": "markdown",
   "metadata": {},
   "source": [
    "### Assignment 3"
   ]
  },
  {
   "cell_type": "markdown",
   "metadata": {},
   "source": [
    "###### Question 1"
   ]
  },
  {
   "cell_type": "code",
   "execution_count": 9,
   "metadata": {},
   "outputs": [
    {
     "name": "stdout",
     "output_type": "stream",
     "text": [
      "Counter ( {'a': 400, 'b': 400, 'c': 300, 'd': 400} )\n"
     ]
    }
   ],
   "source": [
    "# Q1 - i\n",
    "\"\"\"\n",
    "Date: 05/11/2022\n",
    "Took 9 runs to finish program\n",
    "\"\"\"\n",
    "\n",
    "#Add elements in a dictinoary with the same key\n",
    "\n",
    "\"\"\"PLAN:\n",
    "Iterate through the first dictionary:\n",
    "Is the key found in the second dictionary:\n",
    "    -->Yes: Adds the numbers with the same key, then adds the key and number to a seperate dictionary\n",
    "    -->No: No changes with be made to the key and number\n",
    "\n",
    "Iterates through the second dictionary:\n",
    "Is the key found in the created dictionary:\n",
    "    -->Yes: Then skip\n",
    "    -->No: No changes will be made to the key and number and they will be added to the seperate dictionary\n",
    "\n",
    "Outputs the created dictionary\n",
    "\"\"\"\n",
    "\n",
    "# Variables\n",
    "list_keys = []\n",
    "d1 = {'a': 100, 'b': 200, 'c':300}\n",
    "d2 = d2 = {'a': 300, 'b': 200, 'd':400}\n",
    "d3 = dict()\n",
    "\n",
    "# Main-\n",
    "\n",
    "for key in d1:\n",
    "    if key in d2:\n",
    "        d3[key] = d1[key] + d2[key]\n",
    "        list_keys.append(key)\n",
    "    else:\n",
    "        d3[key] = d1[key]\n",
    "\n",
    "for key in d2:\n",
    "    if key in list_keys:\n",
    "        continue\n",
    "    else:\n",
    "        d3[key] = d2[key]\n",
    "\n",
    "print (\"Counter ( {} )\".format(d3))"
   ]
  },
  {
   "cell_type": "code",
   "execution_count": 6,
   "metadata": {},
   "outputs": [
    {
     "name": "stdout",
     "output_type": "stream",
     "text": [
      "(2, 4, 6, 8, 10)\n"
     ]
    }
   ],
   "source": [
    "# Q1 - ii\n",
    "\"\"\"\n",
    "Date: 29/10/2022\n",
    "Took 5 runs to finish program\n",
    "\"\"\"\n",
    "\n",
    "#The prgram will create a tuple with even numbers from original tuple\n",
    "\n",
    "\"\"\" PLAN:\n",
    "Create an empty list\n",
    "For loop to got through all elements of the tuple\n",
    "Checks if it is even\n",
    "    --> Yes: Adds to list\n",
    "    --> No: Continues\n",
    "Converts the list into a tuple\n",
    "prints the tuple with even numbers\n",
    "\"\"\"\n",
    "\n",
    "#Variables\n",
    "orig_tuple = (1,2,3,4,5,6,7,8,9,10)\n",
    "even_list = []\n",
    "\n",
    "#Main Body\n",
    "for number in orig_tuple: #Seperating even from odd\n",
    "    if number%2 == 0: #Check if it is even\n",
    "        even_list.append(number) #Adds even numbers to list\n",
    "    else:\n",
    "        continue #Does nothing if it is odd\n",
    "\n",
    "even_tuple = tuple(even_list) #Changes list to tuple\n",
    "\n",
    "#Final Output\n",
    "print (even_tuple) #Prints out the tuple with even number"
   ]
  },
  {
   "cell_type": "markdown",
   "metadata": {},
   "source": [
    "###### Question 2"
   ]
  },
  {
   "cell_type": "code",
   "execution_count": 7,
   "metadata": {},
   "outputs": [
    {
     "name": "stdout",
     "output_type": "stream",
     "text": [
      "A: [9, 9, 2, 7, 7]\n",
      "B [7, 2, 9]\n",
      "\n",
      "Common elements:  [7, 2, 9]\n"
     ]
    }
   ],
   "source": [
    "# Q2 - i\n",
    "\"\"\"\n",
    "Date: 05/11/2022\n",
    "Took 13 runs to finish program\n",
    "\"\"\"\n",
    "\n",
    "\"\"\" Plan\n",
    "Generates two randome integers for m/n\n",
    "Iterates m amount of times picking random elements for List A\n",
    "Iterated n amount of time picking random elements for List B\n",
    "Create list C\n",
    "\n",
    "Iterates through the elements of the shorter list\n",
    "    --> Is the value found in both lists\n",
    "            --> Yes add to list C\n",
    "            --> No continue\n",
    "\"\"\"\n",
    "\n",
    "# Importing and Variables\n",
    "import random as rndm\n",
    "m,n = rndm.randint(1,10),rndm.randint(1,10)\n",
    "A = []\n",
    "B = []\n",
    "C = []\n",
    "\n",
    "# Main-\n",
    "\n",
    "# Creating List A\n",
    "for i in range (m):\n",
    "    A.append(rndm.randint(1,10))\n",
    "# Creating List B\n",
    "for j in range (n):\n",
    "    B.append(rndm.randint(1,10))\n",
    "\n",
    "# Checking is they have similar elements\n",
    "if len(A)<len(B):\n",
    "    for x in A:\n",
    "        if x in C: # Not to repeat elements\n",
    "            continue\n",
    "        elif x in B:\n",
    "            C.append(x)\n",
    "        else:\n",
    "            continue\n",
    "else:\n",
    "    for x in B:\n",
    "        if x in C:\n",
    "            continue\n",
    "        elif x in A:\n",
    "            C.append(x)\n",
    "        else:\n",
    "            continue\n",
    "\n",
    "print (\"A:\", A)\n",
    "print (\"B\", B)\n",
    "\n",
    "print (\"\\nCommon elements: \", C)"
   ]
  },
  {
   "cell_type": "code",
   "execution_count": 63,
   "metadata": {},
   "outputs": [
    {
     "name": "stdout",
     "output_type": "stream",
     "text": [
      "set()\n",
      "{'x'}\n",
      "{'x', 'z'}\n",
      "{'y'}\n",
      "{'y', 'x'}\n",
      "{'y', 'x', 'z'}\n",
      "{'y', 'z'}\n",
      "{'z'}\n"
     ]
    }
   ],
   "source": [
    "# Q2 - ii\n",
    "\"\"\"\n",
    "Date: dd/mm/yyyy\n",
    "Took [Lost track] runs to finish program\n",
    "\"\"\"\n",
    "import itertools\n",
    "\n",
    "# Function\n",
    "def subsets(set_inp):\n",
    "    if set_inp == []:\n",
    "        return [[]]\n",
    "    x = subsets(set_inp[1:])\n",
    "\n",
    "    return sorted( x + [[set_inp[0]] + y for y in x])\n",
    "\n",
    "# Main-\n",
    "S={\"x\", \"y\", \"z\"}\n",
    "T = list(S)\n",
    "\n",
    "for j in subsets(T):\n",
    "    print (set(j))"
   ]
  },
  {
   "cell_type": "markdown",
   "metadata": {},
   "source": [
    "###### Question 3"
   ]
  },
  {
   "cell_type": "code",
   "execution_count": 15,
   "metadata": {},
   "outputs": [
    {
     "name": "stdout",
     "output_type": "stream",
     "text": [
      "[(1, 0, 0), (0, 1, 0), (1, 0, 0), (0, 1, 0), (0, 0, 1), (0, 1, 0), (0, 0, 1), (1, 0, 0), (0, 1, 0), (1, 0, 0), (0, 1, 0), (0, 0, 1)]\n"
     ]
    }
   ],
   "source": [
    "# Q3 - i\n",
    "\"\"\"\n",
    "Date: 03/11/2022\n",
    "Took 2 runs to finish program\n",
    "\"\"\"\n",
    "\n",
    "\"\"\" Plan-\n",
    "Create list x\n",
    "Create and empty list y\n",
    "Iterate through list x, and compare the number to the code\n",
    "If 1 --> (1,0,0)\n",
    "If 2 --> (0,1,0)\n",
    "If 3 --> (0,0,1)\n",
    "Appends it to List y\n",
    "\"\"\"\n",
    "\n",
    "# Creating Variables\n",
    "x = [1,2,1,2,3,2,3,1,2,1,2,3]\n",
    "y = []\n",
    "\n",
    "# Main-\n",
    "\n",
    "for number in x:\n",
    "    if number==1:\n",
    "        y.append(tuple([1,0,0]))\n",
    "    elif number==2:\n",
    "        y.append(tuple([0,1,0]))\n",
    "    else:\n",
    "        y.append(tuple([0,0,1]))\n",
    "    \n",
    "print (y)"
   ]
  },
  {
   "cell_type": "code",
   "execution_count": 21,
   "metadata": {},
   "outputs": [
    {
     "name": "stdout",
     "output_type": "stream",
     "text": [
      "{1: 4, 2: 5, 'a': 3, 3: 3, 'b': 1}\n"
     ]
    }
   ],
   "source": [
    "# Q3 - ii\n",
    "\"\"\"\n",
    "Date: 03/11/2022\n",
    "Took 2 runs to finish program\n",
    "\"\"\"\n",
    "\n",
    "\"\"\" Plan-\n",
    "Create a list with the elements\n",
    "It will iterate through the list\n",
    "    Checks if the element exists in the dictionary\n",
    "        --> Yes: continue\n",
    "        --> No: Starts another loop counting the number of elements within and stores it in the dictionary\n",
    "    Exists loop and resets counter\n",
    "\"\"\"\n",
    "\n",
    "# Variables\n",
    "x = [1,2,1,2,'a','a',3,2,3,1,2,1,2,3,'a','b']\n",
    "y = dict()\n",
    "counter = 0\n",
    "\n",
    "# Main-\n",
    "\n",
    "# Going through the list\n",
    "for key in x:\n",
    "    if key in y:\n",
    "        pass\n",
    "    else:\n",
    "        for value in x:\n",
    "            if value == key:\n",
    "                counter += 1\n",
    "        y[key] = counter\n",
    "\n",
    "    counter = 0 # Resets counter\n",
    "\n",
    "# Outputting\n",
    "print (y)"
   ]
  },
  {
   "cell_type": "markdown",
   "metadata": {},
   "source": [
    "###### Question 4"
   ]
  },
  {
   "cell_type": "code",
   "execution_count": 10,
   "metadata": {},
   "outputs": [
    {
     "name": "stdout",
     "output_type": "stream",
     "text": [
      "Input: bhkadcbjka\n",
      "False\n"
     ]
    }
   ],
   "source": [
    "# Q4 - i\n",
    "\"\"\"\n",
    "Date: 03/11/2022\n",
    "Took 18 runs to finish program\n",
    "\"\"\"\n",
    "\n",
    "# Main-\n",
    "phrase = input(\"Input: \")\n",
    "\n",
    "with open(\"HW3_Sent.txt\",\"r\") as file:\n",
    "    contents = file.read()\n",
    "    if phrase in contents:\n",
    "        print (True)\n",
    "    else:\n",
    "        print (False)"
   ]
  },
  {
   "cell_type": "code",
   "execution_count": 1,
   "metadata": {},
   "outputs": [
    {
     "name": "stdout",
     "output_type": "stream",
     "text": [
      "[220, 165, 110, 275]\n"
     ]
    }
   ],
   "source": [
    "# Q4 - ii\n",
    "\"\"\"\n",
    "Date: 05/11/2022\n",
    "Took [] runs to finish program\n",
    "\"\"\"\n",
    "\n",
    "\"\"\" Plan-\n",
    "Have the computer read the lines in CSV\n",
    "Save it as a string, two seperate lines\n",
    "converts it to a list\n",
    "then sum of list.\n",
    "Stores it in another file, never specified, thus txt file.\n",
    "\"\"\"\n",
    "# Preperations\n",
    "import csv\n",
    "sums = []\n",
    "\n",
    "\n",
    "# Main-\n",
    "\n",
    "# Opening and Summin\n",
    "with open(\"HW3-CSV.csv\", 'r') as file: #Opens file\n",
    "  csvreader = csv.reader(file)\n",
    "  for row in csvreader:\n",
    "    total = 0\n",
    "    for summing in row: #Sums all the numbers within the row\n",
    "        total = total + int(summing)\n",
    "    sums.append(total)\n",
    "\n",
    "print (sums)\n",
    "\n",
    "# Storing the Values in the csv file\n",
    "with open('HW3-Sum.csv', 'w') as f:\n",
    "      \n",
    "    # using csv.writer method from CSV package\n",
    "    write = csv.writer(f)\n",
    "    write.writerow(sums)"
   ]
  }
 ],
 "metadata": {
  "kernelspec": {
   "display_name": "Python 3 (ipykernel)",
   "language": "python",
   "name": "python3"
  },
  "language_info": {
   "codemirror_mode": {
    "name": "ipython",
    "version": 3
   },
   "file_extension": ".py",
   "mimetype": "text/x-python",
   "name": "python",
   "nbconvert_exporter": "python",
   "pygments_lexer": "ipython3",
   "version": "3.10.6"
  },
  "vscode": {
   "interpreter": {
    "hash": "2c4b009172e437642c88f2ab20b84a225b7b9db36534f1c2ae60603f05473698"
   }
  }
 },
 "nbformat": 4,
 "nbformat_minor": 2
}
