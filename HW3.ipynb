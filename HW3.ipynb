{
 "cells": [
  {
   "cell_type": "markdown",
   "metadata": {},
   "source": [
    "### Assignment 3"
   ]
  },
  {
   "cell_type": "markdown",
   "metadata": {},
   "source": [
    "###### Question 1"
   ]
  },
  {
   "cell_type": "code",
   "execution_count": null,
   "metadata": {},
   "outputs": [],
   "source": [
    "# Q1 - i\n",
    "\"\"\"\n",
    "Date: dd/mm/yyyy\n",
    "Took [] runs to finish program\n",
    "\"\"\"\n",
    "\n",
    "#Add elements in a dictinoary with the same key\n",
    "\n",
    "\"\"\"PLAN:\n",
    "Iterate through the first dictionary:\n",
    "Is the key found in the second dictionary:\n",
    "    -->Yes: Adds the numbers with the same key, then adds the key and number to a seperate dictionary\n",
    "    -->No: No changes with be made to the key and number\n",
    "\n",
    "Iterates through the second dictionary:\n",
    "Is the key found in the created dictionary:\n",
    "    -->Yes: Then skip\n",
    "    -->No: No changes will be made to the key and number and they will be added to the seperate dictionary\n",
    "\n",
    "Outputs the created dictionary\n",
    "\"\"\""
   ]
  },
  {
   "cell_type": "code",
   "execution_count": 6,
   "metadata": {},
   "outputs": [
    {
     "name": "stdout",
     "output_type": "stream",
     "text": [
      "(2, 4, 6, 8, 10)\n"
     ]
    }
   ],
   "source": [
    "# Q1 - ii\n",
    "\"\"\"\n",
    "Date: 29/10/2022\n",
    "Took 5 runs to finish program\n",
    "\"\"\"\n",
    "\n",
    "#The prgram will create a tuple with even numbers from original tuple\n",
    "\n",
    "\"\"\" PLAN:\n",
    "Create an empty list\n",
    "For loop to got through all elements of the tuple\n",
    "Checks if it is even\n",
    "    --> Yes: Adds to list\n",
    "    --> No: Continues\n",
    "Converts the list into a tuple\n",
    "prints the tuple with even numbers\n",
    "\"\"\"\n",
    "\n",
    "#Variables\n",
    "orig_tuple = (1,2,3,4,5,6,7,8,9,10)\n",
    "even_list = []\n",
    "\n",
    "#Main Body\n",
    "for number in orig_tuple: #Seperating even from odd\n",
    "    if number%2 == 0: #Check if it is even\n",
    "        even_list.append(number) #Adds even numbers to list\n",
    "    else:\n",
    "        continue #Does nothing if it is odd\n",
    "\n",
    "even_tuple = tuple(even_list) #Changes list to tuple\n",
    "\n",
    "#Final Output\n",
    "print (even_tuple) #Prints out the tuple with even number"
   ]
  },
  {
   "cell_type": "markdown",
   "metadata": {},
   "source": [
    "###### Question 2"
   ]
  },
  {
   "cell_type": "code",
   "execution_count": null,
   "metadata": {},
   "outputs": [],
   "source": [
    "# Q2 - i\n",
    "\"\"\"\n",
    "Date: dd/mm/yyyy\n",
    "Took [] runs to finish program\n",
    "\"\"\""
   ]
  },
  {
   "cell_type": "code",
   "execution_count": null,
   "metadata": {},
   "outputs": [],
   "source": [
    "# Q2 - ii\n",
    "\"\"\"\n",
    "Date: dd/mm/yyyy\n",
    "Took [] runs to finish program\n",
    "\"\"\""
   ]
  },
  {
   "cell_type": "markdown",
   "metadata": {},
   "source": [
    "###### Question 3"
   ]
  },
  {
   "cell_type": "code",
   "execution_count": null,
   "metadata": {},
   "outputs": [],
   "source": [
    "# Q3 - i\n",
    "\"\"\"\n",
    "Date: dd/mm/yyyy\n",
    "Took [] runs to finish program\n",
    "\"\"\""
   ]
  },
  {
   "cell_type": "code",
   "execution_count": null,
   "metadata": {},
   "outputs": [],
   "source": [
    "# Q3 - ii\n",
    "\"\"\"\n",
    "Date: dd/mm/yyyy\n",
    "Took [] runs to finish program\n",
    "\"\"\""
   ]
  },
  {
   "cell_type": "markdown",
   "metadata": {},
   "source": [
    "###### Question 4"
   ]
  },
  {
   "cell_type": "code",
   "execution_count": null,
   "metadata": {},
   "outputs": [],
   "source": [
    "# Q4 - i\n",
    "\"\"\"\n",
    "Date: dd/mm/yyyy\n",
    "Took [] runs to finish program\n",
    "\"\"\""
   ]
  },
  {
   "cell_type": "code",
   "execution_count": null,
   "metadata": {},
   "outputs": [],
   "source": [
    "# Q4 - ii\n",
    "\"\"\"\n",
    "Date: dd/mm/yyyy\n",
    "Took [] runs to finish program\n",
    "\"\"\""
   ]
  }
 ],
 "metadata": {
  "kernelspec": {
   "display_name": "Python 3.10.6 64-bit",
   "language": "python",
   "name": "python3"
  },
  "language_info": {
   "codemirror_mode": {
    "name": "ipython",
    "version": 3
   },
   "file_extension": ".py",
   "mimetype": "text/x-python",
   "name": "python",
   "nbconvert_exporter": "python",
   "pygments_lexer": "ipython3",
   "version": "3.10.6"
  },
  "orig_nbformat": 4,
  "vscode": {
   "interpreter": {
    "hash": "2c4b009172e437642c88f2ab20b84a225b7b9db36534f1c2ae60603f05473698"
   }
  }
 },
 "nbformat": 4,
 "nbformat_minor": 2
}
